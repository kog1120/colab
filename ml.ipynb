{
  "nbformat": 4,
  "nbformat_minor": 0,
  "metadata": {
    "colab": {
      "name": "ml.ipynb",
      "provenance": [],
      "authorship_tag": "ABX9TyOS//JT/f6Y5H6hrafua8Wq",
      "include_colab_link": true
    },
    "kernelspec": {
      "name": "python3",
      "display_name": "Python 3"
    }
  },
  "cells": [
    {
      "cell_type": "markdown",
      "metadata": {
        "id": "view-in-github",
        "colab_type": "text"
      },
      "source": [
        "<a href=\"https://colab.research.google.com/github/kog1120/colab/blob/main/ml.ipynb\" target=\"_parent\"><img src=\"https://colab.research.google.com/assets/colab-badge.svg\" alt=\"Open In Colab\"/></a>"
      ]
    },
    {
      "cell_type": "markdown",
      "metadata": {
        "id": "DUaQOlYCdPXY"
      },
      "source": [
        "# 시작"
      ]
    },
    {
      "cell_type": "markdown",
      "metadata": {
        "id": "ByWnEG0OdJ1f"
      },
      "source": [
        "초기화 인거야"
      ]
    },
    {
      "cell_type": "code",
      "metadata": {
        "id": "oIrIMQB5c99q",
        "outputId": "748cb78a-24ec-44a5-f120-e17fb319006b",
        "colab": {
          "base_uri": "https://localhost:8080/",
          "height": 34
        }
      },
      "source": [
        "import tensorflow as tf\n",
        "\n",
        "print(\"갸오나노\")"
      ],
      "execution_count": 3,
      "outputs": [
        {
          "output_type": "stream",
          "text": [
            "갸오나노\n"
          ],
          "name": "stdout"
        }
      ]
    }
  ]
}